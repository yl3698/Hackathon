{
 "cells": [
  {
   "cell_type": "code",
   "execution_count": 79,
   "id": "cc173d06",
   "metadata": {},
   "outputs": [],
   "source": [
    "import numpy as np\n",
    "import faiss\n",
    "from langchain_openai import OpenAIEmbeddings\n",
    "# from langchain.embeddings import FakeEmbeddings"
   ]
  },
  {
   "cell_type": "markdown",
   "id": "92a0c7a6",
   "metadata": {},
   "source": [
    "DATA"
   ]
  },
  {
   "cell_type": "code",
   "execution_count": 80,
   "id": "e6f6fffe",
   "metadata": {},
   "outputs": [],
   "source": [
    "#this is where you would input all the existing terms\n",
    "\n",
    "ab_initio = \"Ab initio is a Latin term that means \\\"from the beginning” or “from inception.” Ab initio is used to indicate that some fact existed from the start of a relevant time period. It is often used as part of the phrase “void ab initio,” meaning something - such as a marriage - was void from the beginning.\"\n",
    "ar = \"A/R is the abbreviation for accounts receivable.\"\n",
    "aka = \"A.K.A. is the abbreviation of “also known as.” It is often used to specify a party’s aliases or nicknames in a case.\"\n",
    "aba = \"ABA is an abbreviation for American Bar Association (ABA).\"\n",
    "abandon = \"Abandon refers to the act of abandonment. A party can “abandon” in multiple fields of law and abandoning generally, though not always, involves voluntarily giving up a right.\"\n",
    "abet = \"Abet refers to criminally assisting another person in the commission of a crime including planning a crime, escaping from a crime, or in the actual commission of the crime. A party that abets commission of a crime can be charged and prosecuted on grounds of accomplice liability. Under federal law, parties charged with abetting are charged as principals and are, therefore, subject to the same penalties as if they had physically committed the crime themselves. A party who abets before a crime occurs is frequently known as an accessory before the fact. A party who abets by nature of being present at the scene of the crime like a lookout is frequently known as a principal in the second decree. In statutes or case law, abetting is also frequently written as “aiding and abetting”.\"\n",
    "abeyance = \"An abeyance is a temporary suspension of activity while awaiting the resolution of some other proceeding without which the activity in abeyance cannot continue. In the case of a plea in abeyance, the defendant enters a conditional plea of guilty which is then held in abeyance subject to a set of conditions. If the defendant fulfills these conditions, the charges are dropped. If the defendant fails to complete the conditions, the guilty plea is entered. For example, a defendant may be required to undergo a drug addiction treatment program or have a guilty plea entered. Appeals can also be held in abeyance, usually to await the outcome of another court case which concerns similar issues. In property law, abeyance occurs when the true owner of property cannot immediately be determined. In these scenarios, that property is held in abeyance with no one able to exert ownership rights until the true owner can be determined.\"\n",
    "texts = [ab_initio, ar, aka, aba, abandon, abet, abeyance, award]"
   ]
  },
  {
   "cell_type": "code",
   "execution_count": 81,
   "id": "129bdaa4",
   "metadata": {},
   "outputs": [],
   "source": [
    "# Names is the name of the legal term\n",
    "# tag_names (subject's names) are all tag names exisitng for current terms\n",
    "\n",
    "names = [\"ab initio\", \"A/R\", \"a.k.a.\", \"ABA\", \"abandon\", \"abet\", \"abeyance\"]\n",
    "definition = texts\n",
    "tag_names = [\n",
    "    [ \"ACADEMIC TOPICS\", \"legal education and writing\", \"COMMERCE\", \"commercial activities\", \"business law\", \"contracts\", \"LIFE EVENTS\", \"family & personal matters\", \"divorce\", \"marriage\", \"THE LEGAL PROCESS\", \"criminal law\", \"criminal procedure\", \"civil procedure\", \"legal theory\", \"business sectors\", \"courts and procedure\", \"criminal law and procedure\", \"family law\", \"legal education and practice\", \"wex definitions\" ],\n",
    "    [\"COMMERCE\", \"commercial activities\", \"accounting\", \"finance\", \"financial services\", \"business\", \"law\", \"business organizations\", \"corporations\", \"business sectors\", \"commercial transactions\", \"money and financial problems\", \"tax\", \"wex definitions\" ],\n",
    "    [ \"legal education and writing\", \"THE LEGAL PROCESS\", \"courts\", \"criminal law\", \"criminal procedure\", \"legal practice/ethics\", \"civil procedure\", \"accidents and injuries\", \"courts and procedure\", \"criminal law and procedure\", \"legal education and practice\", \"wex definitions\" ],\n",
    "    [ \"ACADEMIC TOPICS\", \"legal education and writing\", \"THE LEGAL PROCESS\", \"legal practice/ethics\", \"legal education and practice\", \"wex definitions\" ],\n",
    "    [ \"LIFE EVENTS\", \"standards of tort liability\", \"family & personal matters\", \"divorce\", \"marriage\", \"PROPERTY\", \"land use & zoning law\", \"property & real estate law\", \"trusts, inheritances & estates\", \"trademark law\", \"THE LEGAL PROCESS\", \"accidents and injuries\", \"courts and procedure\", \"family law\", \"legal education and practice\", \"property law\", \"wex definitions\" ],\n",
    "    [ \"THE LEGAL PROCESS\", \"criminal law\", \"statutory interpretation\", \"criminal law and procedure\", \"wex definitions\" ],\n",
    "    [ \"PROPERTY\", \"property & real estate law\", \"property law\", \"wex definitions\" ]\n",
    "]"
   ]
  },
  {
   "cell_type": "code",
   "execution_count": 82,
   "id": "290f2bfc",
   "metadata": {},
   "outputs": [
    {
     "name": "stdout",
     "output_type": "stream",
     "text": [
      "{'ACADEMIC TOPICS': ['ab initio', 'ABA'], 'legal education and writing': ['ab initio', 'a.k.a.', 'ABA'], 'COMMERCE': ['ab initio', 'A/R'], 'commercial activities': ['ab initio', 'A/R'], 'business law': ['ab initio'], 'contracts': ['ab initio'], 'LIFE EVENTS': ['ab initio', 'abandon'], 'family & personal matters': ['ab initio', 'abandon'], 'divorce': ['ab initio', 'abandon'], 'marriage': ['ab initio', 'abandon'], 'THE LEGAL PROCESS': ['ab initio', 'a.k.a.', 'ABA', 'abandon', 'abet'], 'criminal law': ['ab initio', 'a.k.a.', 'abet'], 'criminal procedure': ['ab initio', 'a.k.a.'], 'civil procedure': ['ab initio', 'a.k.a.'], 'legal theory': ['ab initio'], 'business sectors': ['ab initio', 'A/R'], 'courts and procedure': ['ab initio', 'a.k.a.', 'abandon'], 'criminal law and procedure': ['ab initio', 'a.k.a.', 'abet'], 'family law': ['ab initio', 'abandon'], 'legal education and practice': ['ab initio', 'a.k.a.', 'ABA', 'abandon'], 'wex definitions': ['ab initio', 'A/R', 'a.k.a.', 'ABA', 'abandon', 'abet', 'abeyance'], 'accounting': ['A/R'], 'finance': ['A/R'], 'financial services': ['A/R'], 'business': ['A/R'], 'law': ['A/R'], 'business organizations': ['A/R'], 'corporations': ['A/R'], 'commercial transactions': ['A/R'], 'money and financial problems': ['A/R'], 'tax': ['A/R'], 'courts': ['a.k.a.'], 'legal practice/ethics': ['a.k.a.', 'ABA'], 'accidents and injuries': ['a.k.a.', 'abandon'], 'standards of tort liability': ['abandon'], 'PROPERTY': ['abandon', 'abeyance'], 'land use & zoning law': ['abandon'], 'property & real estate law': ['abandon', 'abeyance'], 'trusts, inheritances & estates': ['abandon'], 'trademark law': ['abandon'], 'property law': ['abandon', 'abeyance'], 'statutory interpretation': ['abet']}\n"
     ]
    }
   ],
   "source": [
    "# Making a dicitionary of all the legal terms for each tag/subject\n",
    "\n",
    "# Initialize an empty dictionary to store tags as keys and names as values.\n",
    "tag_dictionary = {}\n",
    "\n",
    "# Iterate over each name and its corresponding tag list.\n",
    "for i, name in enumerate(names):\n",
    "    for tag in tag_names[i]:\n",
    "        # If the tag is already in the dictionary, append the name to its list.\n",
    "        if tag in tag_dictionary:\n",
    "            tag_dictionary[tag].append(name)\n",
    "        # Otherwise, create a new entry in the dictionary with the name in a list.\n",
    "        else:\n",
    "            tag_dictionary[tag] = [name]\n",
    "\n",
    "# Now `tag_dictionary` is in the format {tag_name: [all of the names under that tag]}\n",
    "print(tag_dictionary)"
   ]
  },
  {
   "cell_type": "markdown",
   "id": "f4977476",
   "metadata": {},
   "source": [
    "OPEN AI SEARCH ENGINE\n",
    "- this is bypass the issue of too concise or too broad tags\n",
    "- openai's vectorization system takes a look at all of the descriptions of each legal term & court cases & gets the most relevant to least relevant definitions & cases even if there isn't a specific tag for the particular search\n",
    "\n",
    "\n",
    "i.e. 'robot' isn't a tag. Searching \"robots\" will bring any and every case/definition (depending on what part of the website you are on) related to this search - such as AI-related topics to least relevant of just normal tech topics"
   ]
  },
  {
   "cell_type": "code",
   "execution_count": 85,
   "id": "a2cb5fb3",
   "metadata": {
    "scrolled": false
   },
   "outputs": [],
   "source": [
    "# embeddings = FakeEmbeddings(size=1536)\n",
    "embeddings = OpenAIEmbeddings(openai_api_key = \"INSERT OPENAI SECRET KEY HERE\")\n",
    "embedd_list = []"
   ]
  },
  {
   "cell_type": "code",
   "execution_count": null,
   "id": "9dac4d75",
   "metadata": {},
   "outputs": [],
   "source": [
    "for course in texts:\n",
    "    embedd_list.append(embeddings.embed_query(course))"
   ]
  },
  {
   "cell_type": "code",
   "execution_count": null,
   "id": "8d7a68b9",
   "metadata": {},
   "outputs": [],
   "source": [
    "embedd_list = np.array(embedd_list).astype(\"float32\")\n",
    "# embedd_list\n",
    "index = faiss.IndexFlatL2(1536)\n",
    "index.add(embedd_list)"
   ]
  },
  {
   "cell_type": "code",
   "execution_count": 67,
   "id": "297de2c8",
   "metadata": {},
   "outputs": [],
   "source": [
    "def query_searches(query):\n",
    "    x = 1\n",
    "    query = np.array([embeddings.embed_query(query)]).astype(\"float32\")\n",
    "    k = 4 #get 4 most similar elements\n",
    "    distances, indices = index.search(query, k)\n",
    "    for inner_list in indices:\n",
    "        for element in inner_list:\n",
    "            print(str(x) + \". \" + names[element])\n",
    "            print(\"\\t\" + texts[element] + \"\\n\\n\")\n",
    "            x+=1"
   ]
  },
  {
   "cell_type": "markdown",
   "id": "272f22fe",
   "metadata": {},
   "source": [
    "EXAMPLE"
   ]
  },
  {
   "cell_type": "code",
   "execution_count": 65,
   "id": "a0f1def3",
   "metadata": {},
   "outputs": [
    {
     "name": "stdout",
     "output_type": "stream",
     "text": [
      "1. ABA\n",
      "\tABA is an abbreviation for American Bar Association (ABA).\n",
      "\n",
      "\n",
      "2. A/R\n",
      "\tA/R is the abbreviation for accounts receivable.\n",
      "\n",
      "\n",
      "3. award\n",
      "\tAn award is defined as a final judgment or decision. Generally, an award will include a declaration that one party owes another a certain amount of money.  Although the term often refers to the decisions of arbitrators and juries, it can also refer to the decisions of judges.\n",
      "\n",
      "\n",
      "4. abeyance\n",
      "\tAn abeyance is a temporary suspension of activity while awaiting the resolution of some other proceeding without which the activity in abeyance cannot continue. In the case of a plea in abeyance, the defendant enters a conditional plea of guilty which is then held in abeyance subject to a set of conditions. If the defendant fulfills these conditions, the charges are dropped. If the defendant fails to complete the conditions, the guilty plea is entered. For example, a defendant may be required to undergo a drug addiction treatment program or have a guilty plea entered. Appeals can also be held in abeyance, usually to await the outcome of another court case which concerns similar issues. In property law, abeyance occurs when the true owner of property cannot immediately be determined. In these scenarios, that property is held in abeyance with no one able to exert ownership rights until the true owner can be determined.\n",
      "\n",
      "\n"
     ]
    }
   ],
   "source": [
    "query = \"buisness related topics please\"\n",
    "query_searches(query)"
   ]
  },
  {
   "cell_type": "code",
   "execution_count": null,
   "id": "54dcff8c",
   "metadata": {},
   "outputs": [],
   "source": []
  },
  {
   "cell_type": "code",
   "execution_count": null,
   "id": "4cf877f1",
   "metadata": {},
   "outputs": [],
   "source": [
    "# Interactive Example\n",
    "\n",
    "text = input(\"What would you like to search for?: \")\n",
    "get_tags(text)"
   ]
  },
  {
   "cell_type": "code",
   "execution_count": null,
   "id": "edf9033d",
   "metadata": {},
   "outputs": [],
   "source": []
  },
  {
   "cell_type": "code",
   "execution_count": null,
   "id": "81df9988",
   "metadata": {},
   "outputs": [],
   "source": []
  }
 ],
 "metadata": {
  "kernelspec": {
   "display_name": "Python 3 (ipykernel)",
   "language": "python",
   "name": "python3"
  },
  "language_info": {
   "codemirror_mode": {
    "name": "ipython",
    "version": 3
   },
   "file_extension": ".py",
   "mimetype": "text/x-python",
   "name": "python",
   "nbconvert_exporter": "python",
   "pygments_lexer": "ipython3",
   "version": "3.11.5"
  }
 },
 "nbformat": 4,
 "nbformat_minor": 5
}
